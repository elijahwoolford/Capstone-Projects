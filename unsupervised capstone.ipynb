{
 "cells": [
  {
   "cell_type": "markdown",
   "metadata": {},
   "source": [
    "# Predicting Song Artist  \n",
    "The overall purpose of this project is to scrape song lyrics from www.lyricsfreak.com, perform cluster anaylsis, nlp anaylsis, and train a variety of models to predict the correct artist from the given lyrics\n",
    "\n",
    "**Analytical Questions:**\n",
    "<br>\n",
    "1.How well can the model predict a particular artist given their song lyrics?\n",
    "<br>\n",
    "2.Will the choice of model make an impact?"
   ]
  },
  {
   "cell_type": "code",
   "execution_count": 390,
   "metadata": {},
   "outputs": [],
   "source": [
    "#Necessary Packages \n",
    "from bs4 import BeautifulSoup\n",
    "from collections import Counter\n",
    "from sklearn.feature_extraction.text import TfidfVectorizer\n",
    "from sklearn.model_selection import train_test_split\n",
    "from sklearn import ensemble\n",
    "from sklearn.model_selection import train_test_split, cross_val_score\n",
    "from sklearn.linear_model import LogisticRegression\n",
    "from sklearn.cluster import KMeans, MiniBatchKMeans\n",
    "from sklearn.preprocessing import normalize\n",
    "from sklearn.decomposition import PCA\n",
    "from sklearn.neural_network import MLPClassifier\n",
    "from time import sleep\n",
    "import urllib.request\n",
    "import pandas as pd\n",
    "import numpy as np\n",
    "import re\n",
    "import spacy\n",
    "import itertools\n",
    "import matplotlib.pyplot as plt\n",
    "%matplotlib inline"
   ]
  },
  {
   "cell_type": "code",
   "execution_count": 180,
   "metadata": {},
   "outputs": [],
   "source": [
    "#Function to open page link and get all links on page\n",
    "def scrapeSongLinks(url):\n",
    "    page = urllib.request.urlopen(url)\n",
    "    soup = BeautifulSoup(page, \"html.parser\")\n",
    "    links = soup.find_all('a', href=True)\n",
    "    return links"
   ]
  },
  {
   "cell_type": "code",
   "execution_count": 228,
   "metadata": {},
   "outputs": [],
   "source": [
    "#Scraper Function\n",
    "def getSongLyrics():\n",
    "    base_url = \"https://www.lyricsfreak.com\"\n",
    "    artist_urls = [\"https://www.lyricsfreak.com/b/beyonce/\",\n",
    "                  \"https://www.lyricsfreak.com/c/coldplay/\",\n",
    "                  \"https://www.lyricsfreak.com/r/rihanna/\",\n",
    "                  \"https://www.lyricsfreak.com/d/demi+lovato//\",\n",
    "                  \"https://www.lyricsfreak.com/k/kanye+west/\",\n",
    "                  \"https://www.lyricsfreak.com/k/katy+perry/\",\n",
    "                  \"https://www.lyricsfreak.com/d/drake/\",\n",
    "                  \"https://www.lyricsfreak.com/t/taylor+swift/\",\n",
    "                  \"https://www.lyricsfreak.com/b/bruno+mars/\",\n",
    "                  \"https://www.lyricsfreak.com/m/michael+jackson/\"]\n",
    "    lyrics = []\n",
    "    for artist_url in artist_urls:\n",
    "        split = artist_url.split(\"/\")\n",
    "        artist = split[4] \n",
    "        links = scrapeSongLinks(artist_url)\n",
    "        artist_links = []\n",
    "        artist_lyrics = []\n",
    "        for link in links:\n",
    "            if artist in str(link):\n",
    "                link = str(link).strip('<a href=\"')\n",
    "                x = link.split('\"')\n",
    "                link = x[0]\n",
    "                artist_links.append(link)\n",
    "        artist_links.pop(0)\n",
    "        for i in range(20):\n",
    "            song = base_url + artist_links[i]\n",
    "            songpage = urllib.request.urlopen(song)\n",
    "            songsoup = BeautifulSoup(songpage, \"html.parser\")\n",
    "            for row in songsoup.select('div[id^=content]'):\n",
    "                artist_lyrics.append(row.text)\n",
    "        artist_lyrics.remove('')\n",
    "        lyrics.append(artist_lyrics)\n",
    "        sleep(5)\n",
    "    return lyrics"
   ]
  },
  {
   "cell_type": "code",
   "execution_count": 229,
   "metadata": {},
   "outputs": [],
   "source": [
    "#Run the function\n",
    "lyrics = getSongLyrics()"
   ]
  },
  {
   "cell_type": "code",
   "execution_count": 232,
   "metadata": {},
   "outputs": [],
   "source": [
    "#Assign each lyric list to the proper artist\n",
    "coldplay = lyrics[0]\n",
    "rihanna = lyrics[1]\n",
    "demi = lyrics[2]\n",
    "taylor = lyrics[3]\n",
    "michael = lyrics[4]"
   ]
  },
  {
   "cell_type": "code",
   "execution_count": 245,
   "metadata": {},
   "outputs": [],
   "source": [
    "#Cleaning\n",
    "coldplay = [re.sub(r\"(?<=\\w)([A-Z])\", r\" \\1\", word) for word in coldplay]\n",
    "rihanna = [re.sub(r\"(?<=\\w)([A-Z])\", r\" \\1\", word) for word in rihanna]\n",
    "demi = [re.sub(r\"(?<=\\w)([A-Z])\", r\" \\1\", word) for word in demi]\n",
    "taylor = [re.sub(r\"(?<=\\w)([A-Z])\", r\" \\1\", word) for word in taylor]\n",
    "michael = [re.sub(r\"(?<=\\w)([A-Z])\", r\" \\1\", word) for word in michael]\n",
    "\n",
    "coldplay = list(filter(None, coldplay))\n",
    "rihanna = list(filter(None, rihanna))\n",
    "demi = list(filter(None, demi))\n",
    "taylor = list(filter(None, taylor))\n",
    "michael = list(filter(None, michael))"
   ]
  },
  {
   "cell_type": "code",
   "execution_count": 268,
   "metadata": {},
   "outputs": [],
   "source": [
    "#NLP processing\n",
    "nlp = spacy.load('en')\n",
    "coldplay_doc = [nlp(lyric) for lyric in coldplay]\n",
    "rihanna_doc = [nlp(lyric) for lyric in rihanna]\n",
    "demi_doc = [nlp(lyric) for lyric in demi]\n",
    "taylor_doc = [nlp(lyric) for lyric in taylor]\n",
    "michael_doc = [nlp(lyric) for lyric in michael]"
   ]
  },
  {
   "cell_type": "code",
   "execution_count": 255,
   "metadata": {},
   "outputs": [],
   "source": [
    "song_docs = [coldplay_doc, rihanna_doc, demi_doc, taylor_doc, michael_doc]"
   ]
  },
  {
   "cell_type": "code",
   "execution_count": 311,
   "metadata": {},
   "outputs": [],
   "source": [
    "def lemma_frequencies(text, include_stop=True):\n",
    "    lemma = []\n",
    "    for i in range(len(text)):\n",
    "        for token in text[i]:\n",
    "            if not token.is_punct and (not token.is_stop or include_stop):\n",
    "                lemma.append(token.lemma_.lower())\n",
    "    return Counter(lemma)"
   ]
  },
  {
   "cell_type": "code",
   "execution_count": 340,
   "metadata": {},
   "outputs": [],
   "source": [
    "#Create dataframe\n",
    "rihanna_sents = [[song, \"rihanna\"] for song in rihanna_doc]\n",
    "coldplay_sents = [[song, \"coldplay\"] for song in coldplay_doc]\n",
    "taylor_sents = [[song, \"taylor\"] for song in rihanna_doc]\n",
    "demi_sents = [[song, \"demi\"] for song in demi_doc]\n",
    "michael_sents = [[song, \"michael\"] for song in michael_doc]\n",
    "sentences = pd.DataFrame(rihanna_sents + coldplay_sents + taylor_sents + demi_sents + michael_sents)"
   ]
  },
  {
   "cell_type": "code",
   "execution_count": 359,
   "metadata": {},
   "outputs": [],
   "source": [
    "def bag_of_words(text):\n",
    "    for i in range(len(text)):\n",
    "        for token in text[i]:\n",
    "            allwords = [token.lemma_ for token in text[i] if not token.is_punct and not token.is_stop]\n",
    "    return [item[0] for item in Counter(allwords).most_common(10)]"
   ]
  },
  {
   "cell_type": "code",
   "execution_count": 360,
   "metadata": {},
   "outputs": [],
   "source": [
    "#Word bagging\n",
    "rihanna_words = bag_of_words(rihanna_doc)\n",
    "coldplay_words = bag_of_words(coldplay_doc)\n",
    "taylor_words = bag_of_words(taylor_doc)\n",
    "demi_words = bag_of_words(demi_doc)\n",
    "michael_words = bag_of_words(michael_doc)"
   ]
  },
  {
   "cell_type": "code",
   "execution_count": 361,
   "metadata": {},
   "outputs": [],
   "source": [
    "rihanna_words.remove(\"-PRON-\")\n",
    "coldplay_words.remove(\"-PRON-\")\n",
    "taylor_words.remove(\"-PRON-\")\n",
    "demi_words.remove(\"-PRON-\")\n",
    "michael_words.remove(\"-PRON-\")"
   ]
  },
  {
   "cell_type": "code",
   "execution_count": 370,
   "metadata": {},
   "outputs": [],
   "source": [
    "common_words = set(rihanna_words + coldplay_words + taylor_words + demi_words + michael_words)"
   ]
  },
  {
   "cell_type": "code",
   "execution_count": 363,
   "metadata": {},
   "outputs": [],
   "source": [
    "def bow_features(sentences, common_words):\n",
    "    df = pd.DataFrame(columns=common_words)\n",
    "    df['text_sentence'] = sentences[0]\n",
    "    df['text_source'] = sentences[1]\n",
    "    df.loc[:, common_words] = 0\n",
    "    for i, sentence in enumerate(df['text_sentence']):\n",
    "        words = [token.lemma_\n",
    "                 for token in sentence\n",
    "                 if (\n",
    "                     not token.is_punct\n",
    "                     and not token.is_stop\n",
    "                     and token.lemma_ in common_words\n",
    "                 )]\n",
    "        for word in words:\n",
    "            df.loc[i, word] += 1\n",
    "            \n",
    "    return df"
   ]
  },
  {
   "cell_type": "code",
   "execution_count": 364,
   "metadata": {},
   "outputs": [
    {
     "name": "stdout",
     "output_type": "stream",
     "text": [
      "Processing row 0\n",
      "Processing row 10\n",
      "Processing row 20\n",
      "Processing row 30\n",
      "Processing row 40\n",
      "Processing row 50\n",
      "Processing row 60\n",
      "Processing row 70\n",
      "Processing row 80\n",
      "Processing row 90\n"
     ]
    },
    {
     "data": {
      "text/html": [
       "<div>\n",
       "<style scoped>\n",
       "    .dataframe tbody tr th:only-of-type {\n",
       "        vertical-align: middle;\n",
       "    }\n",
       "\n",
       "    .dataframe tbody tr th {\n",
       "        vertical-align: top;\n",
       "    }\n",
       "\n",
       "    .dataframe thead th {\n",
       "        text-align: right;\n",
       "    }\n",
       "</style>\n",
       "<table border=\"1\" class=\"dataframe\">\n",
       "  <thead>\n",
       "    <tr style=\"text-align: right;\">\n",
       "      <th></th>\n",
       "      <th>search</th>\n",
       "      <th>srudyng</th>\n",
       "      <th>hear</th>\n",
       "      <th>arm</th>\n",
       "      <th>lift</th>\n",
       "      <th>time</th>\n",
       "      <th>lose</th>\n",
       "      <th>all</th>\n",
       "      <th>way</th>\n",
       "      <th>like</th>\n",
       "      <th>...</th>\n",
       "      <th>control</th>\n",
       "      <th>baby</th>\n",
       "      <th>celebration'cause</th>\n",
       "      <th>day</th>\n",
       "      <th>heart</th>\n",
       "      <th>remote</th>\n",
       "      <th>not</th>\n",
       "      <th>strong</th>\n",
       "      <th>text_sentence</th>\n",
       "      <th>text_source</th>\n",
       "    </tr>\n",
       "  </thead>\n",
       "  <tbody>\n",
       "    <tr>\n",
       "      <th>0</th>\n",
       "      <td>0</td>\n",
       "      <td>0</td>\n",
       "      <td>0</td>\n",
       "      <td>0</td>\n",
       "      <td>0</td>\n",
       "      <td>1</td>\n",
       "      <td>0</td>\n",
       "      <td>0</td>\n",
       "      <td>0</td>\n",
       "      <td>15</td>\n",
       "      <td>...</td>\n",
       "      <td>0</td>\n",
       "      <td>0</td>\n",
       "      <td>0</td>\n",
       "      <td>0</td>\n",
       "      <td>0</td>\n",
       "      <td>0</td>\n",
       "      <td>2</td>\n",
       "      <td>0</td>\n",
       "      <td>(Some, girls, play, the, game, They, all, walk...</td>\n",
       "      <td>rihanna</td>\n",
       "    </tr>\n",
       "    <tr>\n",
       "      <th>1</th>\n",
       "      <td>0</td>\n",
       "      <td>0</td>\n",
       "      <td>0</td>\n",
       "      <td>0</td>\n",
       "      <td>0</td>\n",
       "      <td>0</td>\n",
       "      <td>0</td>\n",
       "      <td>0</td>\n",
       "      <td>0</td>\n",
       "      <td>1</td>\n",
       "      <td>...</td>\n",
       "      <td>0</td>\n",
       "      <td>0</td>\n",
       "      <td>0</td>\n",
       "      <td>0</td>\n",
       "      <td>0</td>\n",
       "      <td>0</td>\n",
       "      <td>1</td>\n",
       "      <td>0</td>\n",
       "      <td>(Mc, ,, Nicki, ,, Riri, After, Party, Turn, on...</td>\n",
       "      <td>rihanna</td>\n",
       "    </tr>\n",
       "    <tr>\n",
       "      <th>2</th>\n",
       "      <td>0</td>\n",
       "      <td>0</td>\n",
       "      <td>0</td>\n",
       "      <td>0</td>\n",
       "      <td>0</td>\n",
       "      <td>0</td>\n",
       "      <td>0</td>\n",
       "      <td>0</td>\n",
       "      <td>0</td>\n",
       "      <td>0</td>\n",
       "      <td>...</td>\n",
       "      <td>0</td>\n",
       "      <td>0</td>\n",
       "      <td>0</td>\n",
       "      <td>0</td>\n",
       "      <td>0</td>\n",
       "      <td>0</td>\n",
       "      <td>2</td>\n",
       "      <td>0</td>\n",
       "      <td>([, Chorus]Breathe, out, ,, breathe, in, Ameri...</td>\n",
       "      <td>rihanna</td>\n",
       "    </tr>\n",
       "    <tr>\n",
       "      <th>3</th>\n",
       "      <td>0</td>\n",
       "      <td>0</td>\n",
       "      <td>0</td>\n",
       "      <td>0</td>\n",
       "      <td>0</td>\n",
       "      <td>0</td>\n",
       "      <td>0</td>\n",
       "      <td>0</td>\n",
       "      <td>0</td>\n",
       "      <td>0</td>\n",
       "      <td>...</td>\n",
       "      <td>0</td>\n",
       "      <td>3</td>\n",
       "      <td>0</td>\n",
       "      <td>0</td>\n",
       "      <td>0</td>\n",
       "      <td>0</td>\n",
       "      <td>0</td>\n",
       "      <td>0</td>\n",
       "      <td>(You, 're, my, sunrise, My, baby, brown, eyes,...</td>\n",
       "      <td>rihanna</td>\n",
       "    </tr>\n",
       "    <tr>\n",
       "      <th>4</th>\n",
       "      <td>0</td>\n",
       "      <td>0</td>\n",
       "      <td>0</td>\n",
       "      <td>0</td>\n",
       "      <td>0</td>\n",
       "      <td>0</td>\n",
       "      <td>0</td>\n",
       "      <td>2</td>\n",
       "      <td>0</td>\n",
       "      <td>1</td>\n",
       "      <td>...</td>\n",
       "      <td>0</td>\n",
       "      <td>0</td>\n",
       "      <td>0</td>\n",
       "      <td>0</td>\n",
       "      <td>0</td>\n",
       "      <td>0</td>\n",
       "      <td>2</td>\n",
       "      <td>0</td>\n",
       "      <td>(I, guess, they, know, I, 'm, baaaaad, ,, baaa...</td>\n",
       "      <td>rihanna</td>\n",
       "    </tr>\n",
       "  </tbody>\n",
       "</table>\n",
       "<p>5 rows × 44 columns</p>\n",
       "</div>"
      ],
      "text/plain": [
       "  search srudyng hear arm lift time lose all way like     ...     control  \\\n",
       "0      0       0    0   0    0    1    0   0   0   15     ...           0   \n",
       "1      0       0    0   0    0    0    0   0   0    1     ...           0   \n",
       "2      0       0    0   0    0    0    0   0   0    0     ...           0   \n",
       "3      0       0    0   0    0    0    0   0   0    0     ...           0   \n",
       "4      0       0    0   0    0    0    0   2   0    1     ...           0   \n",
       "\n",
       "  baby celebration'cause day heart remote not strong  \\\n",
       "0    0                 0   0     0      0   2      0   \n",
       "1    0                 0   0     0      0   1      0   \n",
       "2    0                 0   0     0      0   2      0   \n",
       "3    3                 0   0     0      0   0      0   \n",
       "4    0                 0   0     0      0   2      0   \n",
       "\n",
       "                                       text_sentence text_source  \n",
       "0  (Some, girls, play, the, game, They, all, walk...     rihanna  \n",
       "1  (Mc, ,, Nicki, ,, Riri, After, Party, Turn, on...     rihanna  \n",
       "2  ([, Chorus]Breathe, out, ,, breathe, in, Ameri...     rihanna  \n",
       "3  (You, 're, my, sunrise, My, baby, brown, eyes,...     rihanna  \n",
       "4  (I, guess, they, know, I, 'm, baaaaad, ,, baaa...     rihanna  \n",
       "\n",
       "[5 rows x 44 columns]"
      ]
     },
     "execution_count": 364,
     "metadata": {},
     "output_type": "execute_result"
    }
   ],
   "source": [
    "#Count each word from common words and put into the dataframe\n",
    "word_counts = bow_features(sentences, common_words)\n",
    "word_counts.head()"
   ]
  },
  {
   "cell_type": "code",
   "execution_count": 398,
   "metadata": {},
   "outputs": [
    {
     "name": "stdout",
     "output_type": "stream",
     "text": [
      "Training set score: 0.8533333333333334\n",
      "\n",
      "Test set score: 0.4\n"
     ]
    }
   ],
   "source": [
    "#Random Forest model\n",
    "rfc = ensemble.RandomForestClassifier()\n",
    "Y = word_counts['text_source']\n",
    "X = np.array(word_counts.drop(['text_sentence','text_source'], 1))\n",
    "\n",
    "X_train, X_test, y_train, y_test = train_test_split(X, \n",
    "                                                    Y,\n",
    "                                                    test_size=0.25,\n",
    "                                                    random_state=0)\n",
    "train = rfc.fit(X_train, y_train)\n",
    "\n",
    "print('Training set score:', rfc.score(X_train, y_train))\n",
    "print('\\nTest set score:', rfc.score(X_test, y_test))"
   ]
  },
  {
   "cell_type": "code",
   "execution_count": 399,
   "metadata": {},
   "outputs": [
    {
     "name": "stdout",
     "output_type": "stream",
     "text": [
      "(75, 42) (75,)\n",
      "Training set score: 0.7066666666666667\n",
      "\n",
      "Test set score: 0.24\n"
     ]
    }
   ],
   "source": [
    "#Logistic regression model\n",
    "lr = LogisticRegression()\n",
    "train = lr.fit(X_train, y_train)\n",
    "print(X_train.shape, y_train.shape)\n",
    "print('Training set score:', lr.score(X_train, y_train))\n",
    "print('\\nTest set score:', lr.score(X_test, y_test))"
   ]
  },
  {
   "cell_type": "code",
   "execution_count": 400,
   "metadata": {},
   "outputs": [
    {
     "name": "stdout",
     "output_type": "stream",
     "text": [
      "Training set score: 0.8533333333333334\n",
      "\n",
      "Test set score: 0.24\n"
     ]
    }
   ],
   "source": [
    "# Gradient Boost\n",
    "clf = ensemble.GradientBoostingClassifier()\n",
    "train = clf.fit(X_train, y_train)\n",
    "\n",
    "print('Training set score:', clf.score(X_train, y_train))\n",
    "print('\\nTest set score:', clf.score(X_test, y_test))"
   ]
  },
  {
   "cell_type": "code",
   "execution_count": 380,
   "metadata": {},
   "outputs": [
    {
     "data": {
      "image/png": "[encoded data removed]",
      "text/plain": [
       "<matplotlib.figure.Figure at 0x14f6ee1d0>"
      ]
     },
     "metadata": {},
     "output_type": "display_data"
    },
    {
     "name": "stdout",
     "output_type": "stream",
     "text": [
      "Comparing k-means clusters against the data:\n",
      "text_source  coldplay  demi  michael  rihanna  taylor\n",
      "row_0                                                \n",
      "0                   1     6        3        4       4\n",
      "1                   3     0        3        6       6\n",
      "2                  11     9       11        4       4\n",
      "3                   0     4        3        1       1\n",
      "4                   5     1        0        5       5\n"
     ]
    }
   ],
   "source": [
    "#Clustering\n",
    "X_norm = normalize(X)\n",
    "\n",
    "X_pca = PCA(5).fit_transform(X_norm)\n",
    "\n",
    "y_pred = KMeans(n_clusters=5, random_state=42).fit_predict(X_pca)\n",
    "\n",
    "plt.scatter(X_pca[:, 0], X_pca[:, 1], c=y_pred)\n",
    "plt.show()\n",
    "\n",
    "print('Comparing k-means clusters against the data:')\n",
    "print(pd.crosstab(y_pred, Y))"
   ]
  },
  {
   "cell_type": "code",
   "execution_count": 382,
   "metadata": {},
   "outputs": [
    {
     "data": {
      "image/png": "[encoded data removed]",
      "text/plain": [
       "<matplotlib.figure.Figure at 0x14f6ee668>"
      ]
     },
     "metadata": {},
     "output_type": "display_data"
    },
    {
     "name": "stdout",
     "output_type": "stream",
     "text": [
      "text_source  coldplay  demi  michael  rihanna  taylor\n",
      "row_0                                                \n",
      "0                   2     8        3        4       4\n",
      "1                   0     2        3        1       1\n",
      "2                  10     9       11        4       4\n",
      "3                   3     1        0        5       5\n",
      "4                   5     0        3        6       6\n"
     ]
    }
   ],
   "source": [
    "#Clustering with minibatch kmeans\n",
    "minibatchkmeans = MiniBatchKMeans(\n",
    "    init='random',\n",
    "    n_clusters=5,\n",
    "    batch_size=100)\n",
    "minibatchkmeans.fit(X_pca)\n",
    "\n",
    "predict_mini = minibatchkmeans.predict(X_pca)\n",
    "\n",
    "plt.scatter(X_pca[:, 0], X_pca[:, 1], c=predict_mini)\n",
    "plt.show()\n",
    "\n",
    "print(pd.crosstab(predict_mini, Y))"
   ]
  },
  {
   "cell_type": "code",
   "execution_count": 401,
   "metadata": {},
   "outputs": [
    {
     "data": {
      "text/plain": [
       "MLPClassifier(activation='relu', alpha=0.0001, batch_size='auto', beta_1=0.9,\n",
       "       beta_2=0.999, early_stopping=False, epsilon=1e-08,\n",
       "       hidden_layer_sizes=(1000, 1000, 1000), learning_rate='constant',\n",
       "       learning_rate_init=0.001, max_iter=200, momentum=0.9,\n",
       "       nesterovs_momentum=True, power_t=0.5, random_state=None,\n",
       "       shuffle=True, solver='adam', tol=0.0001, validation_fraction=0.1,\n",
       "       verbose=False, warm_start=False)"
      ]
     },
     "execution_count": 401,
     "metadata": {},
     "output_type": "execute_result"
    }
   ],
   "source": [
    "#Neural Network model\n",
    "mlp = MLPClassifier(hidden_layer_sizes=(1000,1000,1000))\n",
    "mlp.fit(X_train, y_train)"
   ]
  },
  {
   "cell_type": "code",
   "execution_count": 402,
   "metadata": {},
   "outputs": [
    {
     "data": {
      "text/plain": [
       "0.24"
      ]
     },
     "execution_count": 402,
     "metadata": {},
     "output_type": "execute_result"
    }
   ],
   "source": [
    "mlp.score(X_test, y_test)"
   ]
  },
  {
   "cell_type": "markdown",
   "metadata": {},
   "source": [
    "# In Conclusion:\n",
    "The models created here do not give a good prediction of artist when given lyrics from a song. This may be due to the combination of writers that usually collaberate to create a song. All the models performed about the same so choice of model didn't really matter."
   ]
  },
  {
   "cell_type": "code",
   "execution_count": null,
   "metadata": {},
   "outputs": [],
   "source": []
  }
 ],
 "metadata": {
  "kernelspec": {
   "display_name": "Python 3",
   "language": "python",
   "name": "python3"
  },
  "language_info": {
   "codemirror_mode": {
    "name": "ipython",
    "version": 3
   },
   "file_extension": ".py",
   "mimetype": "text/x-python",
   "name": "python",
   "nbconvert_exporter": "python",
   "pygments_lexer": "ipython3",
   "version": "3.5.1"
  }
 },
 "nbformat": 4,
 "nbformat_minor": 2
}
